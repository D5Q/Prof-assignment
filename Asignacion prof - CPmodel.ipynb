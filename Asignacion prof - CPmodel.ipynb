{
 "cells": [
  {
   "cell_type": "markdown",
   "metadata": {},
   "source": [
    "# Data"
   ]
  },
  {
   "cell_type": "code",
   "execution_count": 1,
   "metadata": {},
   "outputs": [],
   "source": [
    "# Import of libraries\n",
    "from __future__ import print_function \n",
    "from ortools.sat.python import cp_model\n",
    "from ortools.linear_solver import pywraplp\n",
    "import time\n",
    "import numpy as np\n",
    "import pandas as pd\n",
    "import xarray as xr\n",
    "start = time.time()"
   ]
  },
  {
   "cell_type": "code",
   "execution_count": 2,
   "metadata": {
    "scrolled": true
   },
   "outputs": [
    {
     "name": "stdout",
     "output_type": "stream",
     "text": [
      "Dimensions of xa_pref:  ('CURSO', 'PROF', 'TURNO', 'DIA')\n",
      "Shape of xa_pref:  (2, 11, 5, 5)\n",
      "\n",
      "Dimensions of xa_cargahs:  ('CURSO', 'PROF')\n",
      "Shape of xa_cargahs:  (2, 11)\n"
     ]
    }
   ],
   "source": [
    "# Data Import from Excel\n",
    "\n",
    "archivo_input = 'Asignacion prof 1 curso.xlsx'\n",
    "df_pref = pd.read_excel(archivo_input, 'PREFERENCIAS', index_col=(0,1,2))\n",
    "df_pref = df_pref.drop('INICIO',axis=1)\n",
    "df_pref = df_pref.drop('FIN',axis=1)\n",
    "df_pref\n",
    "\n",
    "df_pref = df_pref.rename_axis('DIA',axis=1)\n",
    "df_pref = df_pref.stack()\n",
    "xa_pref = df_pref.to_xarray()\n",
    "print(\"Dimensions of xa_pref: \", xa_pref.dims)\n",
    "print(\"Shape of xa_pref: \", xa_pref.shape)\n",
    "print(\"\")\n",
    "\n",
    "ncursos = xa_pref.shape[0] # posicion i\n",
    "nprof = xa_pref.shape[1] # posicion j\n",
    "nturnos = xa_pref.shape[2] # posicion k\n",
    "ndias = xa_pref.shape[3] # posicion l\n",
    "\n",
    "df_cargahs = pd.read_excel(archivo_input, 'CARGA_HS', index_col=(0,1))\n",
    "df_cargahs = df_cargahs.drop('MATERIA',axis=1)\n",
    "xa_cargahs = df_cargahs.to_xarray()\n",
    "xa_cargahs = xa_cargahs['HORAS'].fillna(0)\n",
    "print(\"Dimensions of xa_cargahs: \", xa_cargahs.dims)\n",
    "print(\"Shape of xa_cargahs: \", xa_cargahs.shape)"
   ]
  },
  {
   "cell_type": "markdown",
   "metadata": {},
   "source": [
    "# Model"
   ]
  },
  {
   "cell_type": "code",
   "execution_count": 3,
   "metadata": {},
   "outputs": [],
   "source": [
    "# MODEL CREATION\n",
    "\n",
    "model = cp_model.CpModel()\n",
    "#model = pywraplp.Solver('modelo_asigna', pywraplp.Solver.CBC_MIXED_INTEGER_PROGRAMMING)\n",
    "#pywraplp.Solver.GLOP_LINEAR_PROGRAMMING\n",
    "#pywraplp.Solver.CLP_LINEAR_PROGRAMMING\n",
    "#pywraplp.Solver.CBC_MIXED_INTEGER_PROGRAMMING"
   ]
  },
  {
   "cell_type": "code",
   "execution_count": 4,
   "metadata": {},
   "outputs": [
    {
     "data": {
      "text/plain": [
       "5"
      ]
     },
     "execution_count": 4,
     "metadata": {},
     "output_type": "execute_result"
    }
   ],
   "source": [
    "ndias"
   ]
  },
  {
   "cell_type": "code",
   "execution_count": 5,
   "metadata": {},
   "outputs": [
    {
     "name": "stdout",
     "output_type": "stream",
     "text": [
      "Shape de x:  (2, 11, 5, 5)\n",
      "Shape de cambios:  (2, 11, 2, 5)\n",
      "Wall time: 11 ms\n"
     ]
    }
   ],
   "source": [
    "%%time\n",
    "# VARIABLES\n",
    "\n",
    "x = []\n",
    "for i in range(ncursos):\n",
    "    a=[]\n",
    "    for j in range(nprof):\n",
    "        b = []\n",
    "        for k in range(nturnos):\n",
    "            c = []\n",
    "            for l in range(ndias):\n",
    "                c.append(model.NewBoolVar(\"x[%i,%i,%i,%i]\" % (i, j, k, l)))\n",
    "            b.append(c)\n",
    "        a.append(b)\n",
    "    x.append(a)\n",
    "    \n",
    "cambios = []\n",
    "for i in range(ncursos):\n",
    "    a=[]\n",
    "    for j in range(nprof):\n",
    "        b = []\n",
    "        for k in range(round(nturnos/2)):\n",
    "            c = []\n",
    "            for l in range(ndias):\n",
    "                c.append(model.NewBoolVar(\"cambios[%i,%i,%i,%i]\" % (i, j, k, l)))\n",
    "            b.append(c)\n",
    "        a.append(b)\n",
    "    cambios.append(a)\n",
    "    \n",
    "print(\"Shape de x: \", np.array(x).shape)\n",
    "print(\"Shape de cambios: \", np.array(cambios).shape)\n",
    "#print('Number of variables =', model.NumVariables())"
   ]
  },
  {
   "cell_type": "code",
   "execution_count": 6,
   "metadata": {},
   "outputs": [
    {
     "name": "stdout",
     "output_type": "stream",
     "text": [
      "Cambios linked\n",
      "Wall time: 14 ms\n"
     ]
    }
   ],
   "source": [
    "%%time\n",
    "# LINKEAGE OF VARIABLES\n",
    "\n",
    "[model.Add(x[i][j][0][l] - x[i][j][1][l] == 0).OnlyEnforceIf(cambios[i][j][0][l].Not())\n",
    " for i in range(ncursos) for j in range(nprof) for l in range(ndias)]\n",
    "\n",
    "[model.Add(x[i][j][2][l] - x[i][j][3][l] == 0).OnlyEnforceIf(cambios[i][j][1][l].Not())\n",
    " for i in range(ncursos) for j in range(nprof) for l in range(ndias)]\n",
    "\n",
    "print(\"Cambios linked\")"
   ]
  },
  {
   "cell_type": "code",
   "execution_count": 7,
   "metadata": {},
   "outputs": [
    {
     "name": "stdout",
     "output_type": "stream",
     "text": [
      "Number of constraints =\n",
      "Wall time: 59.8 ms\n"
     ]
    }
   ],
   "source": [
    "%%time\n",
    "# CONSTRAINTS\n",
    "\n",
    "pref = np.array(xa_pref)\n",
    "cargahs = np.array(xa_cargahs)\n",
    "\n",
    "# Horas acumuladas = Carga horaria de prof/materia x curso\n",
    "[model.Add(sum(x[i][j][k][l] for k in range(nturnos) for l in range(ndias)) == cargahs[i,j]) for i in range(ncursos) for j in range(nprof)]\n",
    "\n",
    "# Horas asignadas <= Horas preferidas x prof\n",
    "[model.Add(x[i][j][k][l] <= pref[i,j,k,l]) for i in range(ncursos) for j in range(nprof) for k in range(nturnos) for l in range(ndias)]\n",
    "\n",
    "# Solo un profesor por turno\n",
    "[model.Add(sum(x[i][j][k][l] for j in range(nprof)) <= 1) for i in range(ncursos) for k in range(nturnos) for l in range(ndias)]\n",
    "\n",
    "# Un profesor solo puede estar en un curso\n",
    "[model.Add(sum(x[i][j][k][l] for i in range(ncursos)) <= 1) for j in range(nprof) for k in range(nturnos) for l in range(ndias)]\n",
    "\n",
    "# Un prof/materia no puede tener todas sus horas en 2 dias consecutivos\n",
    "#for m in range(ndias):\n",
    "[model.Add(sum(x[i][j][k][l] for k in range(nturnos) for l in range(0,2)) <= (max(2,cargahs[i,j])-1)) for i in range(ncursos) for j in range(nprof)]\n",
    "[model.Add(sum(x[i][j][k][l] for k in range(nturnos) for l in range(1,3)) <= (max(2,cargahs[i,j])-1)) for i in range(ncursos) for j in range(nprof)]\n",
    "[model.Add(sum(x[i][j][k][l] for k in range(nturnos) for l in range(2,4)) <= (max(2,cargahs[i,j])-1)) for i in range(ncursos) for j in range(nprof)]\n",
    "[model.Add(sum(x[i][j][k][l] for k in range(nturnos) for l in range(3,5)) <= (max(2,cargahs[i,j])-1)) for i in range(ncursos) for j in range(nprof)]\n",
    "\n",
    "#[model.AddImplication(x[i][j][0][l], x[i][j][1][l]) for i in range(ncursos) for j in range(nprof) for l in range(ndias)]\n",
    "#[model.AddImplication(x[i][j][2][l], x[i][j][3][l]) for i in range(ncursos) for j in range(nprof) for l in range(ndias)]\n",
    "\n",
    "\n",
    "print('Number of constraints =')"
   ]
  },
  {
   "cell_type": "code",
   "execution_count": null,
   "metadata": {},
   "outputs": [],
   "source": [
    "%%time\n",
    "# OBJECTIVE FUNCTION\n",
    "\n",
    "#model.SetTimeLimit(100000)\n",
    "#(np.array(x) * xa_pref.values).sum() + \n",
    "model.Maximize((np.array(x) * xa_pref.values).sum() - np.array(cambios).sum()*2)\n",
    "solver = cp_model.CpSolver()\n",
    "status = solver.Solve(model)\n",
    "print('Solve status: %s' % solver.StatusName(status))\n",
    "if status == cp_model.OPTIMAL:\n",
    "    print('Optimal objective value: %i' % solver.ObjectiveValue())"
   ]
  },
  {
   "cell_type": "code",
   "execution_count": null,
   "metadata": {},
   "outputs": [],
   "source": [
    "# OUTPUT\n",
    "\n",
    "output=[]\n",
    "\n",
    "for i in range(ncursos):\n",
    "    for j in range(nprof):\n",
    "        for k in range(nturnos):\n",
    "            for l in range(ndias):\n",
    "                output.append(solver.Value(x[i][j][k][l]))\n",
    "                #output.append(x[i][j][k][l].solution_value())\n",
    "            \n",
    "m_out = np.array(output).reshape(ncursos, nprof, nturnos, ndias)\n",
    "\n",
    "print(\"Shape of m_out: \", m_out.shape)"
   ]
  },
  {
   "cell_type": "code",
   "execution_count": null,
   "metadata": {},
   "outputs": [],
   "source": [
    "# EXPORT TO EXCEL\n",
    "\n",
    "xa_out = xr.DataArray(m_out, dims=xa_pref.dims, coords=xa_pref.coords) + df_pref.to_xarray()*0\n",
    "xa_out_st = xa_out.stack(id=(xa_out.dims[0],xa_out.dims[1],xa_out.dims[2]))\n",
    "df = xa_out_st.T.to_pandas()\n",
    "#df = df.dropna(0,how='all')\n",
    "df = df.reset_index()\n",
    "writer = pd.ExcelWriter('Horarios_asignados.xlsx')\n",
    "df.to_excel(writer,'Sheet1')\n",
    "writer.save()\n",
    "print(\"Shape of export to xls: \", xa_out_st.T.shape)"
   ]
  },
  {
   "cell_type": "code",
   "execution_count": null,
   "metadata": {},
   "outputs": [],
   "source": [
    "# TIEMPO DE CORRIDA\n",
    "\n",
    "end = time.time()\n",
    "print(\"Time = \", round(end - start, 2), \"seconds\")"
   ]
  },
  {
   "cell_type": "code",
   "execution_count": null,
   "metadata": {},
   "outputs": [],
   "source": [
    "print(\"Turnos seguidos 1&2: \", np.array(np.array(xa_out)[:,:,0:2,:].sum(axis=2) == 2).sum())\n",
    "print(\"Turnos seguidos 3&4: \", np.array(np.array(xa_out)[:,:,2:4,:].sum(axis=2) == 2).sum())\n",
    "\n",
    "#print(\"Turnos seguidos 1&2: \", np.count_nonzero(np.array(xa_out)[:,:,0:2,:].sum(axis=2) == 2))\n",
    "#print(\"Turnos seguidos 3&4: \", np.count_nonzero(np.array(xa_out)[:,:,2:4,:].sum(axis=2) == 2))\n",
    "\n",
    "#print(\"Turnos seguidos 1&2: \", (np.array(xa_out)[:,:,0:1,:] * np.array(xa_out)[:,:,1:2,:]).sum())\n",
    "#print(\"Turnos seguidos 1&2: \", (np.array(xa_out)[:,:,2:3,:] * np.array(xa_out)[:,:,3:4,:]).sum())"
   ]
  },
  {
   "cell_type": "code",
   "execution_count": null,
   "metadata": {},
   "outputs": [],
   "source": []
  }
 ],
 "metadata": {
  "jupytext": {
   "formats": "ipynb,py:light"
  },
  "kernelspec": {
   "display_name": "Python 3.7.4 (curso_PAE)",
   "language": "python",
   "name": "curso_pae"
  },
  "language_info": {
   "codemirror_mode": {
    "name": "ipython",
    "version": 3
   },
   "file_extension": ".py",
   "mimetype": "text/x-python",
   "name": "python",
   "nbconvert_exporter": "python",
   "pygments_lexer": "ipython3",
   "version": "3.7.4"
  }
 },
 "nbformat": 4,
 "nbformat_minor": 4
}
